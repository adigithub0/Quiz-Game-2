{
 "cells": [
  {
   "cell_type": "code",
   "execution_count": 5,
   "id": "4f9de293-a8e0-4f15-85c7-4bbb8aaf5b2f",
   "metadata": {},
   "outputs": [
    {
     "name": "stdout",
     "output_type": "stream",
     "text": [
      "Welcome to the Quiz Game!\n",
      "\n",
      "Question 1: Which of the following is NOT a type of machine learning?\n",
      "A) Supervised Learning\n",
      "B) Unsupervised Learning\n",
      "C) Reinforcement Learning\n",
      "D) Structured Learning\n"
     ]
    },
    {
     "name": "stdin",
     "output_type": "stream",
     "text": [
      "Please enter the letter of your answer:  d\n"
     ]
    },
    {
     "name": "stdout",
     "output_type": "stream",
     "text": [
      "Correct!\n",
      "\n",
      "Question 2: Which of the following libraries is commonly used in Python for data manipulation and analysis?\n",
      "a) NumPy\n",
      "b) Matplotlib\n",
      "c) Pandas\n",
      "d) TensorFlow\n"
     ]
    },
    {
     "name": "stdin",
     "output_type": "stream",
     "text": [
      "Please enter the letter of your answer:  c\n"
     ]
    },
    {
     "name": "stdout",
     "output_type": "stream",
     "text": [
      "Correct!\n",
      "\n",
      "Question 3: In data science, which of the following is a method used to reduce the dimensionality of data?\n",
      "a) Clustering\n",
      "b) Principal Component Analysis (PCA)\n",
      "c) Regression\n",
      "d) Cross-validatio\n"
     ]
    },
    {
     "name": "stdin",
     "output_type": "stream",
     "text": [
      "Please enter the letter of your answer:  b\n"
     ]
    },
    {
     "name": "stdout",
     "output_type": "stream",
     "text": [
      "Correct!\n",
      "\n",
      "Question 4: In a dataset, what does the term 'outlier' refer to?\n",
      "a) A data point that is the average of all points\n",
      "b) A data point that significantly differs from other observations\n",
      "c) The most common data point\n",
      "d) A missing data point\n"
     ]
    },
    {
     "name": "stdin",
     "output_type": "stream",
     "text": [
      "Please enter the letter of your answer:  c\n"
     ]
    },
    {
     "name": "stdout",
     "output_type": "stream",
     "text": [
      "Wrong! The correct answer was B.\n",
      "\n",
      "Question 5: What is the purpose of cross-validation in machine learning?\n",
      "a) To increase the size of the dataset\n",
      "b) To reduce the number of features in the dataset\n",
      "c) To assess the performance of a model\n",
      "d) To combine multiple models into one\n"
     ]
    },
    {
     "name": "stdin",
     "output_type": "stream",
     "text": [
      "Please enter the letter of your answer:  c\n"
     ]
    },
    {
     "name": "stdout",
     "output_type": "stream",
     "text": [
      "Correct!\n",
      "\n",
      "Quiz Over! Your final score is: 4/5\n"
     ]
    }
   ],
   "source": [
    "# Basic Quiz Game in Python\n",
    "\n",
    "# List of questions and answers\n",
    "quiz_questions = [\n",
    "    {\n",
    "        \"question\": \"Which of the following is NOT a type of machine learning?\",\n",
    "        \"options\": [\"A) Supervised Learning\", \"B) Unsupervised Learning\", \"C) Reinforcement Learning\", \"D) Structured Learning\"],\n",
    "        \"answer\": \"D\"\n",
    "    },\n",
    "    {\n",
    "        \"question\": \"Which of the following libraries is commonly used in Python for data manipulation and analysis?\",\n",
    "        \"options\": [\"a) NumPy\", \"b) Matplotlib\", \"c) Pandas\", \"d) TensorFlow\"],\n",
    "        \"answer\": \"C\"\n",
    "    },\n",
    "    {\n",
    "        \"question\": \"In data science, which of the following is a method used to reduce the dimensionality of data?\",\n",
    "        \"options\": [\"a) Clustering\", \"b) Principal Component Analysis (PCA)\", \"c) Regression\", \"d) Cross-validatio\"],\n",
    "        \"answer\": \"B\"\n",
    "    },\n",
    "    {\n",
    "        \"question\": \"In a dataset, what does the term 'outlier' refer to?\",\n",
    "        \"options\": [\"a) A data point that is the average of all points\", \"b) A data point that significantly differs from other observations\", \"c) The most common data point\", \"d) A missing data point\"],\n",
    "        \"answer\": \"B\"\n",
    "    },\n",
    "    {\n",
    "        \"question\": \"What is the purpose of cross-validation in machine learning?\",\n",
    "        \"options\": [\"a) To increase the size of the dataset\", \"b) To reduce the number of features in the dataset\", \"c) To assess the performance of a model\", \"d) To combine multiple models into one\"],\n",
    "        \"answer\": \"C\"\n",
    "    }\n",
    "]\n",
    "\n",
    "def play_quiz():\n",
    "    print(\"Welcome to the Quiz Game!\")\n",
    "    score = 0\n",
    "\n",
    "    for i, question in enumerate(quiz_questions):\n",
    "        print(f\"\\nQuestion {i + 1}: {question['question']}\")\n",
    "        for option in question['options']:\n",
    "            print(option)\n",
    "        \n",
    "        answer = input(\"Please enter the letter of your answer: \").upper()\n",
    "\n",
    "        if answer == question['answer']:\n",
    "            print(\"Correct!\")\n",
    "            score += 1\n",
    "        else:\n",
    "            print(f\"Wrong! The correct answer was {question['answer']}.\")\n",
    "\n",
    "    print(f\"\\nQuiz Over! Your final score is: {score}/{len(quiz_questions)}\")\n",
    "\n",
    "# Start the quiz\n",
    "play_quiz()\n"
   ]
  },
  {
   "cell_type": "code",
   "execution_count": null,
   "id": "916c06ac-090d-4266-acaa-d39f7c834b2d",
   "metadata": {},
   "outputs": [],
   "source": []
  }
 ],
 "metadata": {
  "kernelspec": {
   "display_name": "Python 3 (ipykernel)",
   "language": "python",
   "name": "python3"
  },
  "language_info": {
   "codemirror_mode": {
    "name": "ipython",
    "version": 3
   },
   "file_extension": ".py",
   "mimetype": "text/x-python",
   "name": "python",
   "nbconvert_exporter": "python",
   "pygments_lexer": "ipython3",
   "version": "3.12.4"
  }
 },
 "nbformat": 4,
 "nbformat_minor": 5
}
